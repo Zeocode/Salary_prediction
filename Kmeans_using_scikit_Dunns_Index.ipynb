{
 "cells": [
  {
   "cell_type": "code",
   "execution_count": 1,
   "metadata": {},
   "outputs": [
    {
     "name": "stdout",
     "output_type": "stream",
     "text": [
      "Optimal Number of Clusters =  3\n"
     ]
    }
   ],
   "source": [
    "import matplotlib.pyplot as plt\n",
    "import pandas as pd\n",
    "import numpy as np\n",
    "%matplotlib inline\n",
    "\n",
    "df = pd.DataFrame({\n",
    "    'x': [1,2,3,24,25,26,49,50,51],\n",
    "    'y': [1,2,3,24,25,26,49,50,51]\n",
    "})\n",
    "\n",
    "#print(df.iloc[0:1,1:2])\n",
    "di=0.0\n",
    "di1=0.0\n",
    "\n",
    "from sklearn.cluster import KMeans\n",
    "for i in range(2,5):\n",
    "    kmeans = KMeans(n_clusters=i)\n",
    "    kmeans.fit(df)\n",
    "    labels=kmeans.predict(df)\n",
    "    labels=list(labels)\n",
    "    centroids=kmeans.cluster_centers_\n",
    "    #print(centroids)\n",
    "    min_=centroids[1]-centroids[0]\n",
    "    min_squared=min_[0]**2+min_[1]**2\n",
    "    min_squared=min_squared**.5\n",
    "    #dunn's Index\n",
    "    for j in range(len(centroids)):\n",
    "        for k in range(j+1,len(centroids)):\n",
    "            dist=centroids[k]-centroids[j]\n",
    "            dist_squared=dist[0]**2+dist[1]**2\n",
    "            dist_squared=dist_squared**.5\n",
    "            #print(dist_squared)\n",
    "            if(dist_squared<min_squared):\n",
    "                min_squared=dist_squared\n",
    "    sum_=[]\n",
    "    for j in range(len(centroids)):\n",
    "        sum_.append(0)\n",
    "    for j in range(len(labels)):\n",
    "        for k in range(j+1,len(labels)):\n",
    "            if(labels[j]==labels[k]):\n",
    "                dist1=(df.iloc[j]['x']-df.iloc[j]['x'])**2+(df.iloc[j]['y']-df.iloc[k]['y'])**2\n",
    "                #print(dist1)\n",
    "                dist1_squared=dist1**.5\n",
    "                sum_[labels[j]]=sum_[labels[j]]+dist1_squared\n",
    "                   \n",
    "    for j in range(len(centroids)):\n",
    "        cn=labels.count(j)\n",
    "        sum_[j]=(sum_[j])/(cn) # cannot allow (cn-1) as division by zero may occur\n",
    "            \n",
    "    #print(type(sum_))  \n",
    "    #print(sum_)\n",
    "    di=min_squared/max(sum_)\n",
    "    if (di>di1):\n",
    "        di1=di\n",
    "        final_n=i\n",
    "        continue\n",
    "    else:\n",
    "        break\n",
    "print(\"Optimal Number of Clusters = \",final_n)\n",
    "kmeans = KMeans(n_clusters=final_n)\n",
    "kmeans.fit(df)\n",
    "labels=kmeans.predict(df)\n",
    "centroids=kmeans.cluster_centers_        \n",
    "    \n",
    "    \n",
    "    \n",
    "\n"
   ]
  },
  {
   "cell_type": "code",
   "execution_count": 2,
   "metadata": {
    "scrolled": true
   },
   "outputs": [
    {
     "name": "stdout",
     "output_type": "stream",
     "text": [
      "[[ 2.  2.]\n",
      " [50. 50.]\n",
      " [25. 25.]]\n"
     ]
    }
   ],
   "source": [
    "print (centroids)"
   ]
  },
  {
   "cell_type": "code",
   "execution_count": 3,
   "metadata": {
    "scrolled": true
   },
   "outputs": [
    {
     "data": {
      "image/png": "[encoded data removed]",
      "text/plain": [
       "<Figure size 432x288 with 1 Axes>"
      ]
     },
     "metadata": {
      "needs_background": "light"
     },
     "output_type": "display_data"
    }
   ],
   "source": [
    "colmap={1:'r',2:'g',3:'b'}\n",
    "for i in range(9):\n",
    "    plt.scatter(df.iloc[i:i+1,0:1],df.iloc[i:i+1,1:2],color=colmap[labels[i]+1],alpha=0.5,edgecolor='k')\n",
    "plt.xlim(0,60)\n",
    "plt.ylim(0,60)\n",
    "plt.show()    \n"
   ]
  },
  {
   "cell_type": "code",
   "execution_count": 4,
   "metadata": {},
   "outputs": [
    {
     "data": {
      "image/png": "[encoded data removed]",
      "text/plain": [
       "<Figure size 432x288 with 1 Axes>"
      ]
     },
     "metadata": {
      "needs_background": "light"
     },
     "output_type": "display_data"
    }
   ],
   "source": [
    "for i,c in enumerate(centroids):\n",
    "    plt.scatter(*c,color=colmap[i+1])\n",
    "plt.xlim(0,60)\n",
    "plt.ylim(0,60)\n",
    "plt.show()"
   ]
  },
  {
   "cell_type": "code",
   "execution_count": 5,
   "metadata": {},
   "outputs": [
    {
     "data": {
      "image/png": "[encoded data removed]",
      "text/plain": [
       "<Figure size 432x288 with 1 Axes>"
      ]
     },
     "metadata": {
      "needs_background": "light"
     },
     "output_type": "display_data"
    }
   ],
   "source": [
    "for i in range(9):\n",
    "    plt.scatter(df.iloc[i:i+1,0:1],df.iloc[i:i+1,1:2],color=colmap[labels[i]+1],alpha=0.5,edgecolor='k')   \n",
    "for i,c in enumerate(centroids):\n",
    "    plt.scatter(*c,color=colmap[i+1])\n",
    "plt.xlim(0,60)\n",
    "plt.ylim(0,60)\n",
    "plt.show()"
   ]
  },
  {
   "cell_type": "code",
   "execution_count": null,
   "metadata": {},
   "outputs": [],
   "source": []
  }
 ],
 "metadata": {
  "kernelspec": {
   "display_name": "Python 3",
   "language": "python",
   "name": "python3"
  },
  "language_info": {
   "codemirror_mode": {
    "name": "ipython",
    "version": 3
   },
   "file_extension": ".py",
   "mimetype": "text/x-python",
   "name": "python",
   "nbconvert_exporter": "python",
   "pygments_lexer": "ipython3",
   "version": "3.7.3"
  }
 },
 "nbformat": 4,
 "nbformat_minor": 2
}
